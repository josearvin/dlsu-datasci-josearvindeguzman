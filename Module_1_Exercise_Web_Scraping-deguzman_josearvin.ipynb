{
 "cells": [
  {
   "cell_type": "code",
   "execution_count": 6,
   "metadata": {},
   "outputs": [],
   "source": [
    "from bs4 import BeautifulSoup\n",
    "from urllib.request import urlopen\n",
    "import pandas as pd"
   ]
  },
  {
   "cell_type": "markdown",
   "metadata": {},
   "source": [
    "# Exercise"
   ]
  },
  {
   "cell_type": "markdown",
   "metadata": {},
   "source": [
    "Go to http://books.toscrape.com/, Using what you have learned create a csv file the contains all the books found in the website. The csv file should contain the following:\n",
    "\n",
    "- Title\n",
    "- Price\n",
    "- Description\n",
    "- Availability"
   ]
  },
  {
   "cell_type": "markdown",
   "metadata": {},
   "source": [
    "Code guides have been provided to help you in creating the web scraper. Found below is the `get_title_links_and_next_page` this function returns 2 things book urls in a page and link to the next page. The idea here is to collect first all the book links available in the website and store the links in the `title_links` variable **(5 points)**"
   ]
  },
  {
   "cell_type": "code",
   "execution_count": 8,
   "metadata": {},
   "outputs": [
    {
     "data": {
      "text/plain": [
       "['http://books.toscrape.com/catalogue/a-light-in-the-attic_1000/index.html',\n",
       " 'http://books.toscrape.com/catalogue/tipping-the-velvet_999/index.html',\n",
       " 'http://books.toscrape.com/catalogue/soumission_998/index.html',\n",
       " 'http://books.toscrape.com/catalogue/sharp-objects_997/index.html',\n",
       " 'http://books.toscrape.com/catalogue/sapiens-a-brief-history-of-humankind_996/index.html',\n",
       " 'http://books.toscrape.com/catalogue/the-requiem-red_995/index.html',\n",
       " 'http://books.toscrape.com/catalogue/the-dirty-little-secrets-of-getting-your-dream-job_994/index.html',\n",
       " 'http://books.toscrape.com/catalogue/the-coming-woman-a-novel-based-on-the-life-of-the-infamous-feminist-victoria-woodhull_993/index.html',\n",
       " 'http://books.toscrape.com/catalogue/the-boys-in-the-boat-nine-americans-and-their-epic-quest-for-gold-at-the-1936-berlin-olympics_992/index.html',\n",
       " 'http://books.toscrape.com/catalogue/the-black-maria_991/index.html',\n",
       " 'http://books.toscrape.com/catalogue/starving-hearts-triangular-trade-trilogy-1_990/index.html',\n",
       " 'http://books.toscrape.com/catalogue/shakespeares-sonnets_989/index.html',\n",
       " 'http://books.toscrape.com/catalogue/set-me-free_988/index.html',\n",
       " 'http://books.toscrape.com/catalogue/scott-pilgrims-precious-little-life-scott-pilgrim-1_987/index.html',\n",
       " 'http://books.toscrape.com/catalogue/rip-it-up-and-start-again_986/index.html',\n",
       " 'http://books.toscrape.com/catalogue/our-band-could-be-your-life-scenes-from-the-american-indie-underground-1981-1991_985/index.html',\n",
       " 'http://books.toscrape.com/catalogue/olio_984/index.html',\n",
       " 'http://books.toscrape.com/catalogue/mesaerion-the-best-science-fiction-stories-1800-1849_983/index.html',\n",
       " 'http://books.toscrape.com/catalogue/libertarianism-for-beginners_982/index.html',\n",
       " 'http://books.toscrape.com/catalogue/its-only-the-himalayas_981/index.html']"
      ]
     },
     "execution_count": 8,
     "metadata": {},
     "output_type": "execute_result"
    }
   ],
   "source": [
    "base_url = \"http://books.toscrape.com/\"\n",
    "\n",
    "def get_title_links_and_next_page(page_url):\n",
    "    list_links = [] \n",
    "    page = urlopen(base_url)\n",
    "    soup = BeautifulSoup(page, 'html.parser')\n",
    "    for article in soup.find_all('article'):\n",
    "        if \"catalogue\" not in article.find(\"a\")['href']:\n",
    "            url = base_url + \"catalogue/\" + article.find(\"a\")['href']\n",
    "        else:\n",
    "            url = base_url + article.find(\"a\")['href']\n",
    "        list_links.append(url)\n",
    "    \n",
    "    try:\n",
    "        next_url = base_url +  li[\"next\"].find(\"a\")[\"href\"]\n",
    "    except:\n",
    "        next_url = None\n",
    "\n",
    "    return (list_links, next_url)\n",
    "\n",
    "res = get_title_links_and_next_page('http://books.toscrape.com/index.html')\n",
    "title_links = res[0]\n",
    "\n",
    "while res[1]:\n",
    "    if \"catalogue\" not in res[1]:\n",
    "        page_url = base_url + \"catalogue/\" + res[1]\n",
    "    else:\n",
    "        page_url = base_url + res[1]\n",
    "    res = get_title_links_and_next_page(page_url)\n",
    "    title_links += list_links\n",
    "\n",
    "title_links"
   ]
  },
  {
   "cell_type": "markdown",
   "metadata": {},
   "source": [
    "Once you have a list of all the available book links we loop through the links and use the 4 functions `get_title`, `get_price`, `get_description`, `get_availability` to retrieve the book information. **(10 points)**"
   ]
  },
  {
   "cell_type": "code",
   "execution_count": 47,
   "metadata": {},
   "outputs": [],
   "source": [
    "def get_title(soup):\n",
    "    return soup.find(\"h1\")\n",
    "\n",
    "def get_price(soup):\n",
    "    return soup.find(\"p\", attrs={'class':'price_color'})\n",
    "    \n",
    "def get_description(soup):\n",
    "    return soup.find(\"div\", attrs={\"id\" : \"product_description\"}).next_sibling.next_sibling\n",
    "\n",
    "def get_availability(soup):\n",
    "    available = soup.find('p', attrs={'class':'price_color'}).next_sibling.next_sibling\n",
    "    return available.find('i').next_sibling\n",
    "\n",
    "book_data = []\n",
    "for title_link in title_links: \n",
    "    page1 = urlopen(title_link)\n",
    "    soup = BeautifulSoup(page1, 'html.parser')\n",
    "    \n",
    "    title = get_title(soup)\n",
    "    price = get_price(soup)\n",
    "    description = get_description(soup)\n",
    "    availability = get_availability(soup)\n",
    "    \n",
    "    book_data += [[title, price, description, availability.strip()]]"
   ]
  },
  {
   "cell_type": "code",
   "execution_count": 49,
   "metadata": {},
   "outputs": [
    {
     "data": {
      "text/html": [
       "<div>\n",
       "<style scoped>\n",
       "    .dataframe tbody tr th:only-of-type {\n",
       "        vertical-align: middle;\n",
       "    }\n",
       "\n",
       "    .dataframe tbody tr th {\n",
       "        vertical-align: top;\n",
       "    }\n",
       "\n",
       "    .dataframe thead th {\n",
       "        text-align: right;\n",
       "    }\n",
       "</style>\n",
       "<table border=\"1\" class=\"dataframe\">\n",
       "  <thead>\n",
       "    <tr style=\"text-align: right;\">\n",
       "      <th></th>\n",
       "      <th>title</th>\n",
       "      <th>price</th>\n",
       "      <th>description</th>\n",
       "      <th>availability</th>\n",
       "    </tr>\n",
       "  </thead>\n",
       "  <tbody>\n",
       "    <tr>\n",
       "      <th>0</th>\n",
       "      <td>[A Light in the Attic]</td>\n",
       "      <td>[£51.77]</td>\n",
       "      <td>[It's hard to imagine a world without A Light ...</td>\n",
       "      <td>In stock (22 available)</td>\n",
       "    </tr>\n",
       "    <tr>\n",
       "      <th>1</th>\n",
       "      <td>[Tipping the Velvet]</td>\n",
       "      <td>[£53.74]</td>\n",
       "      <td>[\"Erotic and absorbing...Written with starling...</td>\n",
       "      <td>In stock (20 available)</td>\n",
       "    </tr>\n",
       "    <tr>\n",
       "      <th>2</th>\n",
       "      <td>[Soumission]</td>\n",
       "      <td>[£50.10]</td>\n",
       "      <td>[Dans une France assez proche de la nôtre, un ...</td>\n",
       "      <td>In stock (20 available)</td>\n",
       "    </tr>\n",
       "    <tr>\n",
       "      <th>3</th>\n",
       "      <td>[Sharp Objects]</td>\n",
       "      <td>[£47.82]</td>\n",
       "      <td>[WICKED above her hipbone, GIRL across her hea...</td>\n",
       "      <td>In stock (20 available)</td>\n",
       "    </tr>\n",
       "    <tr>\n",
       "      <th>4</th>\n",
       "      <td>[Sapiens: A Brief History of Humankind]</td>\n",
       "      <td>[£54.23]</td>\n",
       "      <td>[From a renowned historian comes a groundbreak...</td>\n",
       "      <td>In stock (20 available)</td>\n",
       "    </tr>\n",
       "  </tbody>\n",
       "</table>\n",
       "</div>"
      ],
      "text/plain": [
       "                                     title     price  \\\n",
       "0                   [A Light in the Attic]  [£51.77]   \n",
       "1                     [Tipping the Velvet]  [£53.74]   \n",
       "2                             [Soumission]  [£50.10]   \n",
       "3                          [Sharp Objects]  [£47.82]   \n",
       "4  [Sapiens: A Brief History of Humankind]  [£54.23]   \n",
       "\n",
       "                                         description             availability  \n",
       "0  [It's hard to imagine a world without A Light ...  In stock (22 available)  \n",
       "1  [\"Erotic and absorbing...Written with starling...  In stock (20 available)  \n",
       "2  [Dans une France assez proche de la nôtre, un ...  In stock (20 available)  \n",
       "3  [WICKED above her hipbone, GIRL across her hea...  In stock (20 available)  \n",
       "4  [From a renowned historian comes a groundbreak...  In stock (20 available)  "
      ]
     },
     "metadata": {},
     "output_type": "display_data"
    }
   ],
   "source": [
    "df = pd.DataFrame(book_data)\n",
    "df.columns = ['title', 'price', 'description', 'availability']\n",
    "display(df.head())\n",
    "df.to_csv(\"booked_scrape.csv\")"
   ]
  },
  {
   "cell_type": "code",
   "execution_count": null,
   "metadata": {},
   "outputs": [],
   "source": []
  }
 ],
 "metadata": {
  "kernelspec": {
   "display_name": "Python 3",
   "language": "python",
   "name": "python3"
  },
  "language_info": {
   "codemirror_mode": {
    "name": "ipython",
    "version": 3
   },
   "file_extension": ".py",
   "mimetype": "text/x-python",
   "name": "python",
   "nbconvert_exporter": "python",
   "pygments_lexer": "ipython3",
   "version": "3.8.5"
  }
 },
 "nbformat": 4,
 "nbformat_minor": 4
}
