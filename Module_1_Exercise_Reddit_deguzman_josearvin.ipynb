{
 "cells": [
  {
   "cell_type": "code",
   "execution_count": null,
   "metadata": {},
   "outputs": [],
   "source": [
    "import pandas as pd \n",
    "import datetime\n",
    "import csv\n",
    "import os \n",
    "import requests \n",
    "import datetime as dt\n",
    "import time"
   ]
  },
  {
   "cell_type": "markdown",
   "metadata": {},
   "source": [
    "# Exercise"
   ]
  },
  {
   "cell_type": "markdown",
   "metadata": {},
   "source": [
    "For your exercise do the following:\n",
    "\n",
    "1. Choose a reddit page you want to crawl\n",
    "2. The following fields should be present when you crawl **(10 points)**:\n",
    "    - author\n",
    "    - subreddit\n",
    "    - date created \n",
    "    - number of comments \n",
    "    - score\n",
    "    - submission title \n",
    "    - submission description\n",
    "3. After crawling, save your results to a pandas dataframe **(3 points)**. \n",
    "4. Answer the following questions **(12 points)**:\n",
    "    - How many submissions were you able to gather? \n",
    "    - Who has the most submissions? \n",
    "    - Which submission has the highest score? \n",
    "    - Which submission has the highest number of comments?\n",
    "    - Which day of the week has the most submissions? \n",
    "    \n",
    "**Tip:** _For item#4, recall how to use the aggregation functions in `pandas` like count, value_counts, sum, etc. For getting the day of the week, look into how to get the `dayofweek` from a datetime object in `pandas`. (Hint: You may need to use `pd.to_datetime` to convert your date column...)_"
   ]
  },
  {
   "cell_type": "code",
   "execution_count": null,
   "metadata": {},
   "outputs": [],
   "source": [
    "def to_utc(date): \n",
    "    return int(date.replace(tzinfo=dt.timezone.utc).timestamp())\n",
    "    \n",
    "def to_readable_date(timestamp):\n",
    "    return dt.datetime.fromtimestamp(timestamp).strftime(\"%Y-%m-%d\")\n",
    "\n",
    "start_date = dt.datetime.strptime(\"2020-07-01\", \"%Y-%m-%d\")\n",
    "end_date = dt.datetime.strptime(\"2020-08-20\", \"%Y-%m-%d\")\n",
    "\n",
    "date_range = (pd.date_range(\n",
    "                start_date, \n",
    "                periods=(end_date - start_date).days + 2)\n",
    "              .tolist())\n",
    "\n",
    "sort_type=\"created_utc\"\n",
    "sort=\"desc\"\n",
    "fields=[\"author\", \"subreddit\", \"created_utc\", \"num_comments\", \"score\", \"title\", \"selftext\"]\n",
    "subreddit = \"nba\"\n",
    "url = \"https://api.pushshift.io/reddit/submission/search/\"\n",
    "results = []\n",
    "\n",
    "for i, s_date in enumerate(date_range):\n",
    "    if i != len(date_range)-1:\n",
    "        e_date = date_range[i+1]\n",
    "        r = requests.get(url = url, params={\n",
    "            \"after\": to_utc(s_date),\n",
    "            \"before\": to_utc(e_date),\n",
    "            \"sort_type\": sort_type,\n",
    "            \"sort\": sort,\n",
    "            \"subreddit\": subreddit,\n",
    "            \"fields\": fields,\n",
    "            \"size\": 500\n",
    "        })\n",
    "        \n",
    "        if r.status_code == 200:\n",
    "            results.append(r.json()[\"data\"])\n",
    "        time.sleep(1)"
   ]
  },
  {
   "cell_type": "code",
   "execution_count": null,
   "metadata": {},
   "outputs": [],
   "source": [
    "nba_list = []\n",
    "for sublist in results:\n",
    "    if sublist is not None:\n",
    "        for item in sublist:\n",
    "            nba_list.append(item)\n",
    "\n",
    "table = pd.DataFrame.from_dict(nba_list)\n",
    "display(table.head())\n",
    "table.to_csv(\"reddit_nba.csv\")"
   ]
  },
  {
   "cell_type": "code",
   "execution_count": null,
   "metadata": {},
   "outputs": [],
   "source": [
    "table.shape #5,100 submissions"
   ]
  },
  {
   "cell_type": "code",
   "execution_count": null,
   "metadata": {},
   "outputs": [],
   "source": [
    "table[\"author\"].value_counts() # most submission author is deleted followed by auscrisos"
   ]
  },
  {
   "cell_type": "code",
   "execution_count": null,
   "metadata": {},
   "outputs": [],
   "source": [
    "table.loc[table[\"score\"].idxmax()] #title \"Stan Van Gundy ...\" has the highest score"
   ]
  },
  {
   "cell_type": "code",
   "execution_count": null,
   "metadata": {},
   "outputs": [],
   "source": [
    "table.loc[table[\"num_comments\"].idxmax()] #Game Thread: Phila 76ers ... has the most comments"
   ]
  },
  {
   "cell_type": "code",
   "execution_count": null,
   "metadata": {},
   "outputs": [],
   "source": [
    "table[\"created_utc\"] = pd.to_datetime(table[\"created_utc\"], unit=\"s\")\n",
    "table[\"day\"] = table[\"created_utc\"].dt.dayofweek\n",
    "table.head()"
   ]
  },
  {
   "cell_type": "code",
   "execution_count": null,
   "metadata": {},
   "outputs": [],
   "source": [
    "table[\"day\"].value_counts() #Thursday[3] and Wednesday[2] have the most number of submissions"
   ]
  },
  {
   "cell_type": "code",
   "execution_count": null,
   "metadata": {},
   "outputs": [],
   "source": []
  },
  {
   "cell_type": "code",
   "execution_count": null,
   "metadata": {},
   "outputs": [],
   "source": []
  }
 ],
 "metadata": {
  "kernelspec": {
   "display_name": "Python 3",
   "language": "python",
   "name": "python3"
  },
  "language_info": {
   "codemirror_mode": {
    "name": "ipython",
    "version": 3
   },
   "file_extension": ".py",
   "mimetype": "text/x-python",
   "name": "python",
   "nbconvert_exporter": "python",
   "pygments_lexer": "ipython3",
   "version": "3.8.5"
  }
 },
 "nbformat": 4,
 "nbformat_minor": 4
}
